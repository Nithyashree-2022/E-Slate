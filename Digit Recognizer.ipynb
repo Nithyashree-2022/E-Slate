{
  "nbformat": 4,
  "nbformat_minor": 0,
  "metadata": {
    "colab": {
      "name": "Minor_Project.ipynb",
      "provenance": []
    },
    "kernelspec": {
      "name": "python3",
      "display_name": "Python 3"
    },
    "language_info": {
      "name": "python"
    },
    "accelerator": "GPU"
  },
  "cells": [
    {
      "cell_type": "markdown",
      "metadata": {
        "id": "2_kr1KUY1g8e"
      },
      "source": [
        "ANN MODEL FOR MNIST DATASET"
      ]
    },
    {
      "cell_type": "code",
      "metadata": {
        "colab": {
          "base_uri": "https://localhost:8080/"
        },
        "id": "seY_UkqE3Ol5",
        "outputId": "2394895c-f70a-4189-f2ff-3c0825e9dbdf"
      },
      "source": [
        "#loading the dataset\n",
        "\n",
        "import tensorflow as tf\n",
        "(x_train,y_train), (x_test,y_test) = tf.keras.datasets.mnist.load_data()"
      ],
      "execution_count": 1,
      "outputs": [
        {
          "output_type": "stream",
          "text": [
            "Downloading data from https://storage.googleapis.com/tensorflow/tf-keras-datasets/mnist.npz\n",
            "11493376/11490434 [==============================] - 0s 0us/step\n"
          ],
          "name": "stdout"
        }
      ]
    },
    {
      "cell_type": "markdown",
      "metadata": {
        "id": "TtmG5t324Qcu"
      },
      "source": [
        "Understanding the data(images and labels)"
      ]
    },
    {
      "cell_type": "code",
      "metadata": {
        "colab": {
          "base_uri": "https://localhost:8080/"
        },
        "id": "GIoQaazS3mF8",
        "outputId": "f272007f-6081-4544-a962-38e17aaafb83"
      },
      "source": [
        "x_train.shape\n",
        "\n",
        "#60,000 training images of 28x28.As 28x28x3 is not there=>dataset images are GRAYSCALE and not colour images"
      ],
      "execution_count": 2,
      "outputs": [
        {
          "output_type": "execute_result",
          "data": {
            "text/plain": [
              "(60000, 28, 28)"
            ]
          },
          "metadata": {
            "tags": []
          },
          "execution_count": 2
        }
      ]
    },
    {
      "cell_type": "code",
      "metadata": {
        "colab": {
          "base_uri": "https://localhost:8080/"
        },
        "id": "cTdtBsZC3sar",
        "outputId": "8ad8b800-0fb6-48a9-faa8-8066f73ff105"
      },
      "source": [
        "y_train.shape\n",
        "\n",
        "#60,000 images will have 60,000 labels.Labels:0,1,2,3,4....9(10 categories)"
      ],
      "execution_count": 3,
      "outputs": [
        {
          "output_type": "execute_result",
          "data": {
            "text/plain": [
              "(60000,)"
            ]
          },
          "metadata": {
            "tags": []
          },
          "execution_count": 3
        }
      ]
    },
    {
      "cell_type": "code",
      "metadata": {
        "colab": {
          "base_uri": "https://localhost:8080/"
        },
        "id": "TPPz-Zwl38lu",
        "outputId": "d7e6aca5-d272-4a9b-b1a1-98bcf2992f1e"
      },
      "source": [
        "x_test.shape\n",
        "\n",
        "#test data has 10,000 28x28 grayscale images"
      ],
      "execution_count": 4,
      "outputs": [
        {
          "output_type": "execute_result",
          "data": {
            "text/plain": [
              "(10000, 28, 28)"
            ]
          },
          "metadata": {
            "tags": []
          },
          "execution_count": 4
        }
      ]
    },
    {
      "cell_type": "code",
      "metadata": {
        "colab": {
          "base_uri": "https://localhost:8080/"
        },
        "id": "zGE5D3FN32Km",
        "outputId": "1aee7f0e-3d05-4dec-f75b-138fe933da5d"
      },
      "source": [
        "y_test.shape\n",
        "\n",
        "#10,000 images have 10,000 labels"
      ],
      "execution_count": 5,
      "outputs": [
        {
          "output_type": "execute_result",
          "data": {
            "text/plain": [
              "(10000,)"
            ]
          },
          "metadata": {
            "tags": []
          },
          "execution_count": 5
        }
      ]
    },
    {
      "cell_type": "code",
      "metadata": {
        "colab": {
          "base_uri": "https://localhost:8080/"
        },
        "id": "s5uAKDiX4bQ9",
        "outputId": "12e18e90-58be-4c0c-8733-1e2d382fdaeb"
      },
      "source": [
        "x_train[300].shape\n",
        "\n",
        "#every image is 28x28 and grayscale"
      ],
      "execution_count": 6,
      "outputs": [
        {
          "output_type": "execute_result",
          "data": {
            "text/plain": [
              "(28, 28)"
            ]
          },
          "metadata": {
            "tags": []
          },
          "execution_count": 6
        }
      ]
    },
    {
      "cell_type": "code",
      "metadata": {
        "colab": {
          "base_uri": "https://localhost:8080/"
        },
        "id": "PPEXedo36nRr",
        "outputId": "a7dde00f-ef6e-494b-cbfc-aefad80ac59c"
      },
      "source": [
        "y_train\n",
        "\n",
        "#not one-hot encoded"
      ],
      "execution_count": 7,
      "outputs": [
        {
          "output_type": "execute_result",
          "data": {
            "text/plain": [
              "array([5, 0, 4, ..., 5, 6, 8], dtype=uint8)"
            ]
          },
          "metadata": {
            "tags": []
          },
          "execution_count": 7
        }
      ]
    },
    {
      "cell_type": "markdown",
      "metadata": {
        "id": "59MaHP8q4jdS"
      },
      "source": [
        "NORMALIZATION"
      ]
    },
    {
      "cell_type": "code",
      "metadata": {
        "id": "O20-FK-S4iA8"
      },
      "source": [
        "x_train=x_train/255.0\n",
        "x_test=x_test/255.0"
      ],
      "execution_count": 8,
      "outputs": []
    },
    {
      "cell_type": "code",
      "metadata": {
        "id": "sAN0CgaP5llS"
      },
      "source": [
        "classes=[0,1,2,3,4,5,6,7,8,9]"
      ],
      "execution_count": 9,
      "outputs": []
    },
    {
      "cell_type": "code",
      "metadata": {
        "colab": {
          "base_uri": "https://localhost:8080/",
          "height": 282
        },
        "id": "O-bNOLfT5Y7r",
        "outputId": "8234ecdb-085c-4ef3-ff1d-3068140ce615"
      },
      "source": [
        "ind=1194\n",
        "import matplotlib.pyplot as plt\n",
        "print(classes[y_train[ind]])\n",
        "plt.imshow(x_train[ind])\n",
        "plt.show()\n"
      ],
      "execution_count": 10,
      "outputs": [
        {
          "output_type": "stream",
          "text": [
            "9\n"
          ],
          "name": "stdout"
        },
        {
          "output_type": "display_data",
          "data": {
            "image/png": "[encoded data removed]",
            "text/plain": [
              "<Figure size 432x288 with 1 Axes>"
            ]
          },
          "metadata": {
            "tags": [],
            "needs_background": "light"
          }
        }
      ]
    },
    {
      "cell_type": "markdown",
      "metadata": {
        "id": "MYAJ5uuz6J-d"
      },
      "source": [
        "NEURAL NETWORK ARCHITECTURE\n",
        "\n",
        "1.Input layers:Flatten:\n",
        "\n",
        "2.Hidden layers:activation=relu:Dense:100 neurons\n",
        "\n",
        "3.Output layer:10 neurons:activation=softmax(multi-class classification problem):Dense"
      ]
    },
    {
      "cell_type": "code",
      "metadata": {
        "id": "LmmAyAtw6Mpv"
      },
      "source": [
        "from keras import Sequential\n",
        "from keras.layers import Dense,Flatten,Dropout"
      ],
      "execution_count": 11,
      "outputs": []
    },
    {
      "cell_type": "code",
      "metadata": {
        "id": "HRqreuJf6_1T"
      },
      "source": [
        "#create model\n",
        "model=Sequential()\n",
        "\n",
        "#input layer:\n",
        "model.add(Flatten())\n",
        "\n",
        "#hidden layer:\n",
        "model.add(Dense(100,activation='relu'))\n",
        "model.add(Dense(100,activation='relu'))\n",
        "model.add(Dense(100,activation='relu'))\n",
        "model.add(Dense(100,activation='relu'))\n",
        "model.add(Dense(100,activation='relu'))\n",
        "\n",
        "\n",
        "\n",
        "#dropout layer:\n",
        "model.add(Dropout(0.4))\n",
        "\n",
        "#o/p layer:\n",
        "model.add(Dense(10,activation='softmax'))\n",
        "\n",
        "\n"
      ],
      "execution_count": 12,
      "outputs": []
    },
    {
      "cell_type": "code",
      "metadata": {
        "id": "OqiqBdRK7tf4"
      },
      "source": [
        "#compile the model:\n",
        "model.compile(\n",
        "    optimizer='adam',loss='sparse_categorical_crossentropy',metrics=['accuracy']\n",
        ")"
      ],
      "execution_count": 13,
      "outputs": []
    },
    {
      "cell_type": "code",
      "metadata": {
        "id": "yxRWYRCl8HCy"
      },
      "source": [
        "#callbacks to avoid overfitting:\n",
        "\n",
        "from keras.callbacks import EarlyStopping\n",
        "early_stop=EarlyStopping(monitor='val_loss',mode='min',verbose=1,patience=5)"
      ],
      "execution_count": 14,
      "outputs": []
    },
    {
      "cell_type": "code",
      "metadata": {
        "colab": {
          "base_uri": "https://localhost:8080/"
        },
        "id": "Emng7404771P",
        "outputId": "f9baa9b0-c767-454f-ce9c-fcbb54481540"
      },
      "source": [
        "#train the model\n",
        "history=model.fit(x_train,y_train,validation_data=(x_test,y_test),epochs=100,callbacks=[early_stop])"
      ],
      "execution_count": 15,
      "outputs": [
        {
          "output_type": "stream",
          "text": [
            "Epoch 1/100\n",
            "1875/1875 [==============================] - 8s 2ms/step - loss: 0.5684 - accuracy: 0.8210 - val_loss: 0.1328 - val_accuracy: 0.9604\n",
            "Epoch 2/100\n",
            "1875/1875 [==============================] - 4s 2ms/step - loss: 0.1461 - accuracy: 0.9583 - val_loss: 0.1064 - val_accuracy: 0.9675\n",
            "Epoch 3/100\n",
            "1875/1875 [==============================] - 4s 2ms/step - loss: 0.0963 - accuracy: 0.9734 - val_loss: 0.1072 - val_accuracy: 0.9707\n",
            "Epoch 4/100\n",
            "1875/1875 [==============================] - 4s 2ms/step - loss: 0.0847 - accuracy: 0.9757 - val_loss: 0.0989 - val_accuracy: 0.9738\n",
            "Epoch 5/100\n",
            "1875/1875 [==============================] - 4s 2ms/step - loss: 0.0662 - accuracy: 0.9810 - val_loss: 0.1037 - val_accuracy: 0.9728\n",
            "Epoch 6/100\n",
            "1875/1875 [==============================] - 4s 2ms/step - loss: 0.0601 - accuracy: 0.9830 - val_loss: 0.0906 - val_accuracy: 0.9750\n",
            "Epoch 7/100\n",
            "1875/1875 [==============================] - 4s 2ms/step - loss: 0.0506 - accuracy: 0.9855 - val_loss: 0.1041 - val_accuracy: 0.9742\n",
            "Epoch 8/100\n",
            "1875/1875 [==============================] - 4s 2ms/step - loss: 0.0447 - accuracy: 0.9863 - val_loss: 0.0868 - val_accuracy: 0.9792\n",
            "Epoch 9/100\n",
            "1875/1875 [==============================] - 4s 2ms/step - loss: 0.0401 - accuracy: 0.9888 - val_loss: 0.0846 - val_accuracy: 0.9761\n",
            "Epoch 10/100\n",
            "1875/1875 [==============================] - 4s 2ms/step - loss: 0.0386 - accuracy: 0.9893 - val_loss: 0.1312 - val_accuracy: 0.9746\n",
            "Epoch 11/100\n",
            "1875/1875 [==============================] - 4s 2ms/step - loss: 0.0334 - accuracy: 0.9900 - val_loss: 0.1072 - val_accuracy: 0.9753\n",
            "Epoch 12/100\n",
            "1875/1875 [==============================] - 4s 2ms/step - loss: 0.0297 - accuracy: 0.9913 - val_loss: 0.0906 - val_accuracy: 0.9787\n",
            "Epoch 13/100\n",
            "1875/1875 [==============================] - 4s 2ms/step - loss: 0.0281 - accuracy: 0.9921 - val_loss: 0.1214 - val_accuracy: 0.9765\n",
            "Epoch 14/100\n",
            "1875/1875 [==============================] - 4s 2ms/step - loss: 0.0260 - accuracy: 0.9921 - val_loss: 0.1067 - val_accuracy: 0.9781\n",
            "Epoch 00014: early stopping\n"
          ],
          "name": "stdout"
        }
      ]
    },
    {
      "cell_type": "code",
      "metadata": {
        "colab": {
          "base_uri": "https://localhost:8080/",
          "height": 282
        },
        "id": "AW5BKtrE8Z1n",
        "outputId": "fcafbd16-ea46-4a23-ab7b-aabf68a4ab5e"
      },
      "source": [
        "plt.plot(history.history['loss'])\n",
        "plt.plot(history.history['val_loss'])"
      ],
      "execution_count": 16,
      "outputs": [
        {
          "output_type": "execute_result",
          "data": {
            "text/plain": [
              "[<matplotlib.lines.Line2D at 0x7f5b9c0a4590>]"
            ]
          },
          "metadata": {
            "tags": []
          },
          "execution_count": 16
        },
        {
          "output_type": "display_data",
          "data": {
            "image/png": "[encoded data removed]",
            "text/plain": [
              "<Figure size 432x288 with 1 Axes>"
            ]
          },
          "metadata": {
            "tags": [],
            "needs_background": "light"
          }
        }
      ]
    },
    {
      "cell_type": "markdown",
      "metadata": {
        "id": "1rsfEvyV-zTd"
      },
      "source": [
        "TESTING ACCURACY:"
      ]
    },
    {
      "cell_type": "code",
      "metadata": {
        "id": "Hb7Jh5m--2Sk"
      },
      "source": [
        "from sklearn.metrics import accuracy_score,classification_report,confusion_matrix\n",
        "import numpy as np"
      ],
      "execution_count": 17,
      "outputs": []
    },
    {
      "cell_type": "code",
      "metadata": {
        "id": "DwQ5lnnh_JHs"
      },
      "source": [
        "y_pred=model.predict(x_test)\n",
        "y_pred=np.argmax(y_pred,axis=1)"
      ],
      "execution_count": 18,
      "outputs": []
    },
    {
      "cell_type": "code",
      "metadata": {
        "colab": {
          "base_uri": "https://localhost:8080/"
        },
        "id": "ImFmc-iM_Ewj",
        "outputId": "e21e49f1-d73e-4570-85bc-4630e93a4d15"
      },
      "source": [
        "accuracy_score(y_pred,y_test)"
      ],
      "execution_count": 19,
      "outputs": [
        {
          "output_type": "execute_result",
          "data": {
            "text/plain": [
              "0.9781"
            ]
          },
          "metadata": {
            "tags": []
          },
          "execution_count": 19
        }
      ]
    },
    {
      "cell_type": "code",
      "metadata": {
        "colab": {
          "base_uri": "https://localhost:8080/"
        },
        "id": "7LhQ9HIi-9dq",
        "outputId": "23b4e532-eb8b-4498-819d-ff656bd95fe3"
      },
      "source": [
        "print(classification_report(y_pred,y_test))"
      ],
      "execution_count": 20,
      "outputs": [
        {
          "output_type": "stream",
          "text": [
            "              precision    recall  f1-score   support\n",
            "\n",
            "           0       0.99      0.98      0.99       984\n",
            "           1       0.99      0.99      0.99      1140\n",
            "           2       0.97      0.98      0.98      1026\n",
            "           3       0.98      0.97      0.97      1024\n",
            "           4       0.97      0.98      0.98       974\n",
            "           5       0.98      0.98      0.98       891\n",
            "           6       0.98      0.98      0.98       958\n",
            "           7       0.97      0.98      0.98      1013\n",
            "           8       0.97      0.97      0.97       966\n",
            "           9       0.98      0.96      0.97      1024\n",
            "\n",
            "    accuracy                           0.98     10000\n",
            "   macro avg       0.98      0.98      0.98     10000\n",
            "weighted avg       0.98      0.98      0.98     10000\n",
            "\n"
          ],
          "name": "stdout"
        }
      ]
    },
    {
      "cell_type": "code",
      "metadata": {
        "id": "Hb6a18XI_iEA",
        "colab": {
          "base_uri": "https://localhost:8080/"
        },
        "outputId": "b18c4a92-e36a-4eba-b061-ee5eab95ebed"
      },
      "source": [
        "confusion_matrix(y_pred,y_test)"
      ],
      "execution_count": 21,
      "outputs": [
        {
          "output_type": "execute_result",
          "data": {
            "text/plain": [
              "array([[ 969,    0,    4,    0,    1,    3,    1,    2,    2,    2],\n",
              "       [   0, 1127,    5,    0,    0,    0,    2,    1,    2,    3],\n",
              "       [   1,    1, 1004,    3,    2,    0,    0,   13,    2,    0],\n",
              "       [   0,    1,    4,  991,    0,    9,    0,    3,   11,    5],\n",
              "       [   1,    0,    1,    0,  956,    1,    6,    2,    2,    5],\n",
              "       [   1,    1,    0,    5,    0,  870,    6,    0,    6,    2],\n",
              "       [   5,    2,    2,    0,    4,    3,  941,    1,    0,    0],\n",
              "       [   0,    0,    5,    3,    1,    0,    0,  997,    1,    6],\n",
              "       [   2,    3,    7,    3,    1,    4,    2,    2,  941,    1],\n",
              "       [   1,    0,    0,    5,   17,    2,    0,    7,    7,  985]])"
            ]
          },
          "metadata": {
            "tags": []
          },
          "execution_count": 21
        }
      ]
    },
    {
      "cell_type": "markdown",
      "metadata": {
        "id": "G0wceBtG_8gb"
      },
      "source": [
        "SAVE THE MODEL"
      ]
    },
    {
      "cell_type": "code",
      "metadata": {
        "id": "1ILV5wUc_-Kk"
      },
      "source": [
        "model.save('mnist-ANN.hdf5')"
      ],
      "execution_count": 22,
      "outputs": []
    },
    {
      "cell_type": "code",
      "metadata": {
        "colab": {
          "base_uri": "https://localhost:8080/"
        },
        "id": "rOy2xI5eKsnC",
        "outputId": "de62ba88-5610-48ad-bf22-0631cd834bad"
      },
      "source": [
        "x_test[1191]"
      ],
      "execution_count": 23,
      "outputs": [
        {
          "output_type": "execute_result",
          "data": {
            "text/plain": [
              "array([[0.        , 0.        , 0.        , 0.        , 0.        ,\n",
              "        0.        , 0.        , 0.        , 0.        , 0.        ,\n",
              "        0.        , 0.        , 0.        , 0.        , 0.        ,\n",
              "        0.        , 0.        , 0.        , 0.        , 0.        ,\n",
              "        0.        , 0.        , 0.        , 0.        , 0.        ,\n",
              "        0.        , 0.        , 0.        ],\n",
              "       [0.        , 0.        , 0.        , 0.        , 0.        ,\n",
              "        0.        , 0.        , 0.        , 0.        , 0.        ,\n",
              "        0.        , 0.        , 0.        , 0.        , 0.        ,\n",
              "        0.        , 0.        , 0.        , 0.        , 0.        ,\n",
              "        0.        , 0.        , 0.        , 0.        , 0.        ,\n",
              "        0.        , 0.        , 0.        ],\n",
              "       [0.        , 0.        , 0.        , 0.        , 0.        ,\n",
              "        0.        , 0.        , 0.        , 0.        , 0.        ,\n",
              "        0.        , 0.        , 0.        , 0.        , 0.        ,\n",
              "        0.        , 0.        , 0.        , 0.        , 0.        ,\n",
              "        0.        , 0.        , 0.        , 0.        , 0.        ,\n",
              "        0.        , 0.        , 0.        ],\n",
              "       [0.        , 0.        , 0.        , 0.        , 0.        ,\n",
              "        0.        , 0.        , 0.        , 0.        , 0.        ,\n",
              "        0.        , 0.        , 0.        , 0.        , 0.        ,\n",
              "        0.        , 0.        , 0.        , 0.        , 0.        ,\n",
              "        0.        , 0.        , 0.        , 0.        , 0.        ,\n",
              "        0.        , 0.        , 0.        ],\n",
              "       [0.        , 0.        , 0.        , 0.        , 0.        ,\n",
              "        0.        , 0.        , 0.        , 0.        , 0.        ,\n",
              "        0.        , 0.        , 0.        , 0.        , 0.        ,\n",
              "        0.        , 0.        , 0.        , 0.        , 0.        ,\n",
              "        0.        , 0.        , 0.        , 0.        , 0.        ,\n",
              "        0.        , 0.        , 0.        ],\n",
              "       [0.        , 0.        , 0.        , 0.        , 0.        ,\n",
              "        0.        , 0.        , 0.        , 0.        , 0.        ,\n",
              "        0.        , 0.        , 0.        , 0.        , 0.        ,\n",
              "        0.        , 0.        , 0.        , 0.        , 0.        ,\n",
              "        0.        , 0.        , 0.        , 0.        , 0.        ,\n",
              "        0.        , 0.        , 0.        ],\n",
              "       [0.        , 0.        , 0.        , 0.        , 0.        ,\n",
              "        0.        , 0.        , 0.        , 0.        , 0.        ,\n",
              "        0.        , 0.        , 0.        , 0.        , 0.        ,\n",
              "        0.        , 0.        , 0.        , 0.        , 0.        ,\n",
              "        0.        , 0.        , 0.        , 0.        , 0.        ,\n",
              "        0.        , 0.        , 0.        ],\n",
              "       [0.        , 0.        , 0.        , 0.        , 0.        ,\n",
              "        0.        , 0.        , 0.        , 0.        , 0.        ,\n",
              "        0.        , 0.        , 0.        , 0.        , 0.        ,\n",
              "        0.        , 0.        , 0.        , 0.        , 0.        ,\n",
              "        0.        , 0.        , 0.        , 0.        , 0.        ,\n",
              "        0.        , 0.        , 0.        ],\n",
              "       [0.        , 0.        , 0.        , 0.        , 0.        ,\n",
              "        0.        , 0.        , 0.        , 0.        , 0.        ,\n",
              "        0.        , 0.        , 0.        , 0.        , 0.        ,\n",
              "        0.        , 0.        , 0.        , 0.        , 0.        ,\n",
              "        0.        , 0.        , 0.        , 0.        , 0.        ,\n",
              "        0.        , 0.        , 0.        ],\n",
              "       [0.        , 0.        , 0.        , 0.        , 0.        ,\n",
              "        0.        , 0.        , 0.        , 0.        , 0.07843137,\n",
              "        0.20784314, 0.60784314, 0.60784314, 0.60784314, 0.60784314,\n",
              "        0.60784314, 0.21568627, 0.1254902 , 0.1254902 , 0.1254902 ,\n",
              "        0.01176471, 0.        , 0.        , 0.        , 0.        ,\n",
              "        0.        , 0.        , 0.        ],\n",
              "       [0.        , 0.        , 0.        , 0.        , 0.        ,\n",
              "        0.        , 0.01176471, 0.14901961, 0.44705882, 0.8627451 ,\n",
              "        0.99215686, 0.99215686, 0.99215686, 0.99215686, 0.99215686,\n",
              "        0.99215686, 0.99215686, 0.99215686, 0.99215686, 0.99215686,\n",
              "        0.66666667, 0.18039216, 0.00784314, 0.        , 0.        ,\n",
              "        0.        , 0.        , 0.        ],\n",
              "       [0.        , 0.        , 0.        , 0.        , 0.        ,\n",
              "        0.11764706, 0.68235294, 0.99215686, 0.99215686, 0.99215686,\n",
              "        0.87843137, 0.82352941, 0.82352941, 0.82352941, 0.82352941,\n",
              "        0.82352941, 0.58431373, 0.88235294, 0.99215686, 0.99215686,\n",
              "        0.99215686, 0.99215686, 0.44705882, 0.00392157, 0.        ,\n",
              "        0.        , 0.        , 0.        ],\n",
              "       [0.        , 0.        , 0.        , 0.        , 0.11372549,\n",
              "        0.85098039, 0.99215686, 0.99215686, 0.96862745, 0.49019608,\n",
              "        0.10588235, 0.        , 0.        , 0.        , 0.        ,\n",
              "        0.        , 0.        , 0.10980392, 0.31372549, 0.50196078,\n",
              "        0.87843137, 0.99215686, 0.99215686, 0.35686275, 0.        ,\n",
              "        0.        , 0.        , 0.        ],\n",
              "       [0.        , 0.        , 0.        , 0.        , 0.61960784,\n",
              "        0.99215686, 0.88627451, 0.99215686, 0.95686275, 0.36470588,\n",
              "        0.        , 0.        , 0.        , 0.        , 0.        ,\n",
              "        0.        , 0.        , 0.        , 0.        , 0.        ,\n",
              "        0.12156863, 0.83529412, 0.99215686, 0.85098039, 0.        ,\n",
              "        0.        , 0.        , 0.        ],\n",
              "       [0.        , 0.        , 0.        , 0.        , 0.99607843,\n",
              "        0.99215686, 0.57254902, 0.54901961, 0.74901961, 0.40392157,\n",
              "        0.        , 0.        , 0.        , 0.        , 0.        ,\n",
              "        0.        , 0.        , 0.        , 0.        , 0.        ,\n",
              "        0.        , 0.43921569, 0.99215686, 0.99215686, 0.        ,\n",
              "        0.        , 0.        , 0.        ],\n",
              "       [0.        , 0.        , 0.        , 0.        , 0.62745098,\n",
              "        0.99215686, 0.97647059, 0.31372549, 0.        , 0.        ,\n",
              "        0.        , 0.        , 0.        , 0.        , 0.        ,\n",
              "        0.        , 0.        , 0.        , 0.        , 0.        ,\n",
              "        0.11372549, 0.82745098, 0.99215686, 0.8627451 , 0.        ,\n",
              "        0.        , 0.        , 0.        ],\n",
              "       [0.        , 0.        , 0.        , 0.        , 0.1254902 ,\n",
              "        0.85882353, 0.99215686, 0.81960784, 0.25882353, 0.        ,\n",
              "        0.        , 0.        , 0.        , 0.        , 0.        ,\n",
              "        0.        , 0.        , 0.        , 0.10980392, 0.48627451,\n",
              "        0.86666667, 0.99215686, 0.99215686, 0.36470588, 0.        ,\n",
              "        0.        , 0.        , 0.        ],\n",
              "       [0.        , 0.        , 0.        , 0.        , 0.        ,\n",
              "        0.14509804, 0.99215686, 0.99215686, 0.96862745, 0.80392157,\n",
              "        0.71764706, 0.31764706, 0.31764706, 0.31764706, 0.31764706,\n",
              "        0.31764706, 0.31764706, 0.72156863, 0.8745098 , 0.99215686,\n",
              "        0.99215686, 0.99215686, 0.46666667, 0.00392157, 0.        ,\n",
              "        0.        , 0.        , 0.        ],\n",
              "       [0.        , 0.        , 0.        , 0.        , 0.        ,\n",
              "        0.01176471, 0.16862745, 0.48627451, 0.99215686, 0.99215686,\n",
              "        0.99215686, 0.99215686, 0.99215686, 0.99215686, 0.99215686,\n",
              "        0.99215686, 0.99215686, 0.99215686, 0.99215686, 0.99215686,\n",
              "        0.85098039, 0.43921569, 0.00784314, 0.        , 0.        ,\n",
              "        0.        , 0.        , 0.        ],\n",
              "       [0.        , 0.        , 0.        , 0.        , 0.        ,\n",
              "        0.        , 0.        , 0.01568627, 0.20392157, 0.62745098,\n",
              "        0.62745098, 0.69803922, 0.99215686, 0.99215686, 0.99215686,\n",
              "        0.99215686, 0.99215686, 0.99215686, 0.67843137, 0.2       ,\n",
              "        0.08627451, 0.        , 0.        , 0.        , 0.        ,\n",
              "        0.        , 0.        , 0.        ],\n",
              "       [0.        , 0.        , 0.        , 0.        , 0.        ,\n",
              "        0.        , 0.        , 0.        , 0.        , 0.        ,\n",
              "        0.        , 0.02352941, 0.11764706, 0.11764706, 0.25098039,\n",
              "        0.22352941, 0.11764706, 0.11764706, 0.01960784, 0.        ,\n",
              "        0.        , 0.        , 0.        , 0.        , 0.        ,\n",
              "        0.        , 0.        , 0.        ],\n",
              "       [0.        , 0.        , 0.        , 0.        , 0.        ,\n",
              "        0.        , 0.        , 0.        , 0.        , 0.        ,\n",
              "        0.        , 0.        , 0.        , 0.        , 0.        ,\n",
              "        0.        , 0.        , 0.        , 0.        , 0.        ,\n",
              "        0.        , 0.        , 0.        , 0.        , 0.        ,\n",
              "        0.        , 0.        , 0.        ],\n",
              "       [0.        , 0.        , 0.        , 0.        , 0.        ,\n",
              "        0.        , 0.        , 0.        , 0.        , 0.        ,\n",
              "        0.        , 0.        , 0.        , 0.        , 0.        ,\n",
              "        0.        , 0.        , 0.        , 0.        , 0.        ,\n",
              "        0.        , 0.        , 0.        , 0.        , 0.        ,\n",
              "        0.        , 0.        , 0.        ],\n",
              "       [0.        , 0.        , 0.        , 0.        , 0.        ,\n",
              "        0.        , 0.        , 0.        , 0.        , 0.        ,\n",
              "        0.        , 0.        , 0.        , 0.        , 0.        ,\n",
              "        0.        , 0.        , 0.        , 0.        , 0.        ,\n",
              "        0.        , 0.        , 0.        , 0.        , 0.        ,\n",
              "        0.        , 0.        , 0.        ],\n",
              "       [0.        , 0.        , 0.        , 0.        , 0.        ,\n",
              "        0.        , 0.        , 0.        , 0.        , 0.        ,\n",
              "        0.        , 0.        , 0.        , 0.        , 0.        ,\n",
              "        0.        , 0.        , 0.        , 0.        , 0.        ,\n",
              "        0.        , 0.        , 0.        , 0.        , 0.        ,\n",
              "        0.        , 0.        , 0.        ],\n",
              "       [0.        , 0.        , 0.        , 0.        , 0.        ,\n",
              "        0.        , 0.        , 0.        , 0.        , 0.        ,\n",
              "        0.        , 0.        , 0.        , 0.        , 0.        ,\n",
              "        0.        , 0.        , 0.        , 0.        , 0.        ,\n",
              "        0.        , 0.        , 0.        , 0.        , 0.        ,\n",
              "        0.        , 0.        , 0.        ],\n",
              "       [0.        , 0.        , 0.        , 0.        , 0.        ,\n",
              "        0.        , 0.        , 0.        , 0.        , 0.        ,\n",
              "        0.        , 0.        , 0.        , 0.        , 0.        ,\n",
              "        0.        , 0.        , 0.        , 0.        , 0.        ,\n",
              "        0.        , 0.        , 0.        , 0.        , 0.        ,\n",
              "        0.        , 0.        , 0.        ],\n",
              "       [0.        , 0.        , 0.        , 0.        , 0.        ,\n",
              "        0.        , 0.        , 0.        , 0.        , 0.        ,\n",
              "        0.        , 0.        , 0.        , 0.        , 0.        ,\n",
              "        0.        , 0.        , 0.        , 0.        , 0.        ,\n",
              "        0.        , 0.        , 0.        , 0.        , 0.        ,\n",
              "        0.        , 0.        , 0.        ]])"
            ]
          },
          "metadata": {
            "tags": []
          },
          "execution_count": 23
        }
      ]
    }
  ]
}